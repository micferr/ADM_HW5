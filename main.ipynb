{
 "cells": [
  {
   "cell_type": "markdown",
   "metadata": {
    "collapsed": true,
    "pycharm": {
     "name": "#%% md\n"
    }
   },
   "source": [
    "# ADM Homework 5"
   ]
  },
  {
   "cell_type": "markdown",
   "source": [
    "## 1 - Data\n",
    "\n",
    "Let's take a first look at the data.\n",
    "\n",
    "We have three files describing links in graphs, with their timestamps.\n",
    "\n",
    "```\n",
    "micf@MacBook-Pro-di-Michele ADM % wc -l ./ADM_HW5/datasets/sx-stackoverflow-a2q.txt\n",
    " 17823525 ./ADM_HW5/datasets/sx-stackoverflow-a2q.txt\n",
    "micf@MacBook-Pro-di-Michele ADM % wc -l ./ADM_HW5/datasets/sx-stackoverflow-c2a.txt\n",
    " 25405374 ./ADM_HW5/datasets/sx-stackoverflow-c2a.txt\n",
    "micf@MacBook-Pro-di-Michele ADM % wc -l ./ADM_HW5/datasets/sx-stackoverflow-c2q.txt\n",
    " 20268151 ./ADM_HW5/datasets/sx-stackoverflow-c2q.txt\n",
    "```\n",
    "\n",
    "The total number of links is ~63M, which we'll need to merge in a single graph\n",
    "\n",
    "```\n",
    "micf@MacBook-Pro-di-Michele ADM % head ./ADM_HW5/datasets/sx-stackoverflow-c2q.txt\n",
    "4550 4550 1220729190\n",
    "242 184 1220733503\n",
    "4213 4946 1220768149\n",
    "91 91 1220768295\n",
    "2658 1874 1220771891\n",
    "4035 1874 1220773037\n",
    "2257 4489 1220802041\n",
    "577 577 1220834891\n",
    "4489 4489 1220853536\n",
    "828 2783 1220854143\n",
    "```\n",
    "\n",
    "The file is a CSV-like format, where spaces are used as separators. For each row, the user that commented/answered, the user who posted the question/answer being replied to, and the timestamp of the interaction (UNIX timestamp in seconds) are provided.\n",
    "\n",
    "Since the files end with newlines, we can just append them together to get our final graph and do actual pre-processing on everything at once.\n",
    "\n",
    "```\n",
    "micf@MacBook-Pro-di-Michele ADM % cat ./ADM_HW5/datasets/sx-stackoverflow-c2q.txt ./ADM_HW5/datasets/sx-stackoverflow-c2a.txt ./ADM_HW5/datasets/sx-stackoverflow-a2q.txt > ./ADM_HW5/datasets/merged_graph.txt\n",
    "micf@MacBook-Pro-di-Michele ADM % wc -l ./ADM_HW5/datasets/merged_graph.txt\n",
    " 63497050 ./ADM_HW5/datasets/merged_graph.txt\n",
    "```\n",
    "\n",
    "Now, depending on the functionality, we can load one of the three sub-graphs, or the complete graph, as we deem fit.\n",
    "\n",
    "## 2 & 3 - Functionalities\n",
    "\n",
    "### Functionality 1"
   ],
   "metadata": {
    "collapsed": false,
    "pycharm": {
     "name": "#%% md\n"
    }
   }
  },
  {
   "cell_type": "code",
   "execution_count": 1,
   "outputs": [
    {
     "data": {
      "text/plain": "                         Value\nIs Directed               True\n# Users                1148384\n# Links               15801794\nAvg. Links per User  13.760026\nDensity               0.000012\nIs Sparse                 True",
      "text/html": "<div>\n<style scoped>\n    .dataframe tbody tr th:only-of-type {\n        vertical-align: middle;\n    }\n\n    .dataframe tbody tr th {\n        vertical-align: top;\n    }\n\n    .dataframe thead th {\n        text-align: right;\n    }\n</style>\n<table border=\"1\" class=\"dataframe\">\n  <thead>\n    <tr style=\"text-align: right;\">\n      <th></th>\n      <th>Value</th>\n    </tr>\n  </thead>\n  <tbody>\n    <tr>\n      <th>Is Directed</th>\n      <td>True</td>\n    </tr>\n    <tr>\n      <th># Users</th>\n      <td>1148384</td>\n    </tr>\n    <tr>\n      <th># Links</th>\n      <td>15801794</td>\n    </tr>\n    <tr>\n      <th>Avg. Links per User</th>\n      <td>13.760026</td>\n    </tr>\n    <tr>\n      <th>Density</th>\n      <td>0.000012</td>\n    </tr>\n    <tr>\n      <th>Is Sparse</th>\n      <td>True</td>\n    </tr>\n  </tbody>\n</table>\n</div>"
     },
     "metadata": {},
     "output_type": "display_data"
    }
   ],
   "source": [
    "from functionality_utils import functionality_1\n",
    "\n",
    "functionality_1()"
   ],
   "metadata": {
    "collapsed": false,
    "pycharm": {
     "name": "#%%\n"
    }
   }
  },
  {
   "cell_type": "markdown",
   "source": [
    "## Algorithmic Question\n",
    "\n",
    "The problem asks to assign a set of students to one of dormitories so that given pairs of students are not in the same dormitory.\n",
    "\n",
    "The problem can be modeled as a graph 2-coloring, where we build a graph such that:\n",
    "- The nodes are the students\n",
    "- An edge ($p_i$, $p_j$) exists if and only if students $p_i$ and $p_j$ have to be assigned to different dormitories.\n",
    "\n",
    "Graph 2-coloring is an extension of traditional DFS/BFS (DFS is implemented here) and keeps its complexity of O(n+k), with n being the number of nodes in the graph and k the number of edges.\n",
    "\n",
    "Here is an implementation of the solution:"
   ],
   "metadata": {
    "collapsed": false
   }
  },
  {
   "cell_type": "code",
   "execution_count": 2,
   "outputs": [],
   "source": [
    "from typing import Optional\n",
    "\n",
    "def assign_students(num_nodes: int, edges: list[tuple[int, int]]) -> Optional[list[int]]:\n",
    "    \"\"\"\n",
    "    Return a list where the i-th element is 0 if the i-th student is assigned to the first dormitory, 1 otherwise.\n",
    "\n",
    "    If no possible assignment exist, this method returns None.\n",
    "\n",
    "    :param num_nodes: Number of nodes in the graph (i.e. the number of students)\n",
    "    :param edges: list of edges, given as pairs of student IDs\n",
    "    :return: A list describing the assignment of students to dormitories, or None if an assignment is not possible.\n",
    "    \"\"\"\n",
    "    colors = [-1]*num_nodes\n",
    "\n",
    "    # Build adjacency lists\n",
    "    adjacents = [[] for _ in range(num_nodes)]\n",
    "    for i, j in edges:\n",
    "        adjacents[i].append(j)\n",
    "        adjacents[j].append(i)\n",
    "\n",
    "    def visit_node(node: int, assign_color: int) -> bool:\n",
    "        \"\"\"\n",
    "        Visit a node, coloring it and recursing on unvisited neighbors.\n",
    "\n",
    "        :param node: index of the node to visit.\n",
    "        :param assign_color: color to assign to this node.\n",
    "        :return: True if the node and its neighbors got assigned a color, False if a conflict was detected.\n",
    "        \"\"\"\n",
    "        colors[node] = assign_color\n",
    "        neighbors_color = 1 if assign_color == 0 else 0\n",
    "        for adjacent in adjacents[node]:\n",
    "            if colors[adjacent] == -1:\n",
    "                if not visit_node(adjacent, neighbors_color):\n",
    "                    return False\n",
    "            elif colors[adjacent] != neighbors_color:\n",
    "                return False\n",
    "\n",
    "        return True\n",
    "\n",
    "    for i in range(len(colors)):\n",
    "        if colors[i] == -1:\n",
    "            ok = visit_node(i, 0)\n",
    "            if not ok:\n",
    "                return None\n",
    "\n",
    "    return colors"
   ],
   "metadata": {
    "collapsed": false,
    "pycharm": {
     "name": "#%%\n"
    }
   }
  },
  {
   "cell_type": "markdown",
   "source": [
    "Let's try the function on a couple examples:"
   ],
   "metadata": {
    "collapsed": false,
    "pycharm": {
     "name": "#%% md\n"
    }
   }
  },
  {
   "cell_type": "code",
   "source": [
    "def run_problem(num_nodes: int, edges: list[tuple[int, int]]) -> None:\n",
    "    problem_result = assign_students(num_nodes, edges)\n",
    "    if not problem_result:\n",
    "        print(\"No possible assignment\")\n",
    "    else:\n",
    "        print(problem_result)"
   ],
   "metadata": {
    "collapsed": false,
    "pycharm": {
     "name": "#%%\n"
    }
   },
   "execution_count": 3,
   "outputs": []
  },
  {
   "cell_type": "code",
   "execution_count": 4,
   "outputs": [
    {
     "name": "stdout",
     "output_type": "stream",
     "text": [
      "[0, 0, 0, 0, 0, 0, 0, 0, 0, 0]\n"
     ]
    }
   ],
   "source": [
    "# No conflicts\n",
    "run_problem(10, [])"
   ],
   "metadata": {
    "collapsed": false,
    "pycharm": {
     "name": "#%%\n"
    }
   }
  },
  {
   "cell_type": "markdown",
   "source": [
    "All students were assigned to the same dormitory, which is fine as there are no conflicts"
   ],
   "metadata": {
    "collapsed": false
   }
  },
  {
   "cell_type": "code",
   "execution_count": 5,
   "outputs": [
    {
     "name": "stdout",
     "output_type": "stream",
     "text": [
      "[0, 1, 0, 0, 0, 0, 0, 0, 0, 0]\n",
      "[0, 0, 0, 0, 0, 0, 0, 0, 0, 1]\n"
     ]
    }
   ],
   "source": [
    "# One conflict\n",
    "run_problem(10, [(0,1)])\n",
    "run_problem(10, [(0,9)])"
   ],
   "metadata": {
    "collapsed": false,
    "pycharm": {
     "name": "#%%\n"
    }
   }
  },
  {
   "cell_type": "markdown",
   "source": [
    "One conflict leads to one student being assigned to another dormitory."
   ],
   "metadata": {
    "collapsed": false,
    "pycharm": {
     "name": "#%% md\n"
    }
   }
  },
  {
   "cell_type": "code",
   "execution_count": 6,
   "outputs": [
    {
     "name": "stdout",
     "output_type": "stream",
     "text": [
      "No possible assignment\n"
     ]
    }
   ],
   "source": [
    "# Three students that all hate each other\n",
    "run_problem(10, [(0,1), (1,2), (0,2)])"
   ],
   "metadata": {
    "collapsed": false,
    "pycharm": {
     "name": "#%%\n"
    }
   }
  },
  {
   "cell_type": "markdown",
   "source": [
    "Since we have a loop of three nodes, 2-coloring is impossible"
   ],
   "metadata": {
    "collapsed": false,
    "pycharm": {
     "name": "#%% md\n"
    }
   }
  },
  {
   "cell_type": "code",
   "execution_count": 7,
   "outputs": [
    {
     "name": "stdout",
     "output_type": "stream",
     "text": [
      "[0, 1, 0, 1, 0, 1, 0, 1, 0, 1]\n"
     ]
    }
   ],
   "source": [
    "# Linear graph\n",
    "run_problem(10, [(i,i+1) for i in range(9)])"
   ],
   "metadata": {
    "collapsed": false,
    "pycharm": {
     "name": "#%%\n"
    }
   }
  },
  {
   "cell_type": "markdown",
   "source": [
    "Each student must be in a different dormitory than the ones right before and after themselves, so assignment values alternate between the two dormitories."
   ],
   "metadata": {
    "collapsed": false,
    "pycharm": {
     "name": "#%% md\n"
    }
   }
  }
 ],
 "metadata": {
  "kernelspec": {
   "display_name": "Python 3",
   "language": "python",
   "name": "python3"
  },
  "language_info": {
   "codemirror_mode": {
    "name": "ipython",
    "version": 2
   },
   "file_extension": ".py",
   "mimetype": "text/x-python",
   "name": "python",
   "nbconvert_exporter": "python",
   "pygments_lexer": "ipython2",
   "version": "2.7.6"
  }
 },
 "nbformat": 4,
 "nbformat_minor": 0
}